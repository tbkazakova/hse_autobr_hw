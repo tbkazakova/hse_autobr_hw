{
 "cells": [
  {
   "cell_type": "markdown",
   "metadata": {},
   "source": [
    "# ДЗ. POS теггеры"
   ]
  },
  {
   "cell_type": "markdown",
   "metadata": {},
   "source": [
    "### Таня Казакова"
   ]
  },
  {
   "cell_type": "markdown",
   "metadata": {},
   "source": [
    "# Русский"
   ]
  },
  {
   "cell_type": "code",
   "execution_count": 1,
   "metadata": {},
   "outputs": [],
   "source": [
    "text = '''Я не видел ни одного электромобиля.\n",
    "\n",
    "Я на фрилансе.\n",
    "\n",
    "Троллинг может быть добрым?\n",
    "\n",
    "Залайкал все фотоприколы, гифки\n",
    "\n",
    "Кинь в личку гифки от никнейма. Ютуб и ютюб люблю больше фэйсбука.\n",
    "\n",
    "\n",
    "Другие сложности\n",
    "\n",
    "ВЧК, ОГПУ, МФТИ аббревиатуры.\n",
    "\n",
    "Тёмно-русый штабс-капитан пятнадцатого полка съел лимон в читальне в пятиэтажном доме на юго-западе района.\n",
    "\n",
    "Лайф коуч, фэшн индустрия.\n",
    "\n",
    "\n",
    "\n",
    "Дети создают замечательные несуществующие слова.\n",
    "\n",
    "Я мамина и больше никовойная.\n",
    "\n",
    "Муж стрекозёл стрекозел.\n",
    "\n",
    "Папа, смотри, какие вагонята хорошенькие!\n",
    "\n",
    "Почтаник идет! \n",
    "Опесатки и ошипки. Выдумки.\n",
    "\n",
    "Предавать нельзей. Висю пока, но потом побежу, стригя, пья и вяжа одновременно. \n",
    "\n",
    "Агенство расчитала скачяной програмой отзовы однокласников об офицальном руссификаторе. Зделано в Тайланде. \n",
    "\n",
    "\n",
    "Ели стоят зелёными круглый год. Ели мы ваше печенье.\n",
    "\n",
    "Село уснуло, солнце село.\n",
    "'''"
   ]
  },
  {
   "cell_type": "markdown",
   "metadata": {},
   "source": [
    "### Объяснительная\n",
    "\n",
    "В этом тексте есть несуществующие слова и слова, написанные с ошибками, которые человеку просто распределить по частям речи. Присутствуют неологизмы, которых может не быть в словарях, по которым работают анализаторы. (Этим мы проверяем, могут ли они анализировать незнакомые им слова.)\n",
    "\n",
    "Ещё здесь есть примеры частеречной омонимии (ели, село и т.д.). (Этим мы проверяем, справляются ли они с омонимией. Хорошо ли учитывают контекст, если учитывают)."
   ]
  },
  {
   "cell_type": "code",
   "execution_count": 2,
   "metadata": {},
   "outputs": [],
   "source": [
    "# Правильный разбор\n",
    "an_gold = [('Я', 'PRON'), ('не', 'PART'), ('видел', 'VERB'), ('ни', 'PART'), ('одного', 'NUM'), ('электромобиля', 'NOUN'), ('.', 'PUNCT'), ('Я', 'PRON'), ('на', 'PR'), ('фрилансе', 'NOUN'), ('.', 'PUNCT'), ('Троллинг', 'NOUN'), ('может', 'VERB'), ('быть', 'VERB'), ('добрым', 'ADJ'), ('?', 'PUNCT'), ('Залайкал', 'VERB'), ('все', 'PRON'), ('фотоприколы', 'NOUN'), (',', 'PUNCT'), ('гифки', 'NOUN'), ('Кинь', 'VERB'), ('в', 'PR'), ('личку', 'NOUN'), ('гифки', 'NOUN'), ('от', 'PR'), ('никнейма', 'NOUN'), ('.', 'PUNCT'), ('Ютуб', 'NOUN'), ('и', 'CCONJ'), ('ютюб', 'NOUN'), ('люблю', 'VERB'), ('больше', 'ADV'), ('фэйсбука', 'NOUN'), ('.', 'PUNCT'), ('Другие', 'ADJ'), ('сложности', 'NOUN'), ('ВЧК', 'NOUN'), (',', 'PUNCT'), ('ОГПУ', 'NOUN'), (',', 'PUNCT'), ('МФТИ', 'NOUN'), ('аббревиатуры', 'NOUN'), ('.', 'PUNCT'), ('Тёмно-русый', 'ADJ'), ('штабс-капитан', 'NOUN'), ('пятнадцатого', 'ADJ'), ('полка', 'NOUN'), ('съел', 'VERB'), ('лимон', 'NOUN'), ('в', 'PR'), ('читальне', 'NOUN'), ('в', 'PR'), ('пятиэтажном', 'ADJ'), ('доме', 'NOUN'), ('на', 'PR'), ('юго-западе', 'NOUN'), ('района', 'NOUN'), ('.', 'PUNCT'), ('Лайф', 'NOUN'), ('коуч', 'NOUN'), (',', 'PUNCT'), ('фэшн', 'NOUN'), ('индустрия', 'NOUN'), ('.', 'PUNCT'), ('Дети', 'NOUN'), ('создают', 'VERB'), ('замечательные', 'ADJ'), ('несуществующие', 'ADJ'), ('слова', 'NOUN'), ('.', 'PUNCT'), ('Я', 'PRON'), ('мамина', 'NOUN'), ('и', 'CCONJ'), ('больше', 'ADV'), ('никовойная', 'ADJ'), ('.', 'PUNCT'), ('Муж', 'NOUN'), ('стрекозы', 'NOUN'), ('стрекозел', 'NOUN'), ('.', 'PUNCT'), ('Папа', 'NOUN'), (',', 'PUNCT'), ('смотри', 'VERB'), (',', 'PUNCT'), ('какие', 'PRON'), ('вагонята', 'NOUN'), ('хорошенькие', 'ADJ'), ('!', 'PUNCT'), ('Почтаник', 'NOUN'), ('идет', 'VERB'), ('!', 'PUNCT'), ('Опесатки', 'NOUN'), ('и', 'CCONJ'), ('ошипки', 'NOUN'), ('.', 'PUNCT'), ('Выдумки', 'NOUN'), ('.', 'PUNCT'), ('Предавать', 'VERB'), ('нельзей', 'ADV'), ('.', 'PUNCT'), ('Висю', 'VERB'), ('пока', 'ADV'), (',', 'PUNCT'), ('но', 'CCONJ'), ('потом', 'ADV'), ('побежу', 'VERB'), (',', 'PUNCT'), ('стригя', 'VERB'), (',', 'PUNCT'), ('пья', 'VERB'), ('и', 'CCONJ'), ('вяжа', 'VERB'), ('одновременно', 'ADV'), ('.', 'PUNCT'), ('Агенство', 'NOUN'), ('расчитала', 'VERB'), ('скачяной', 'VERB'), ('програмой', 'NOUN'), ('отзовы', 'NOUN'), ('однокласников', 'NOUN'), ('об', 'PR'), ('офицальном', 'ADJ'), ('руссификаторе', 'NOUN'), ('.', 'PUNCT'), ('Зделано', 'VERB'), ('в', 'PR'), ('Тайланде', 'NOUN'), ('.', 'PUNCT'), ('Ели', 'NOUN'), ('стоят', 'VERB'), ('зелёными', 'ADJ'), ('круглый', 'ADJ'), ('год', 'NOUN'), ('.', 'PUNCT'), ('Ели', 'VERB'), ('мы', 'PRON'), ('ваше', 'PRON'), ('печенье', 'NOUN'), ('.', 'PUNCT'), ('Село', 'NOUN'), ('уснуло', 'VERB'), (',', 'PUNCT'), ('солнце', 'NOUN'), ('село', 'VERB'), ('.', 'PUNCT')]"
   ]
  },
  {
   "cell_type": "markdown",
   "metadata": {},
   "source": [
    "## Пробуем Mystem"
   ]
  },
  {
   "cell_type": "code",
   "execution_count": 3,
   "metadata": {},
   "outputs": [],
   "source": [
    "from pymystem3 import Mystem"
   ]
  },
  {
   "cell_type": "code",
   "execution_count": 4,
   "metadata": {},
   "outputs": [],
   "source": [
    "m = Mystem()"
   ]
  },
  {
   "cell_type": "code",
   "execution_count": 5,
   "metadata": {},
   "outputs": [],
   "source": [
    "analyz = m.analyze(text)"
   ]
  },
  {
   "cell_type": "code",
   "execution_count": 6,
   "metadata": {},
   "outputs": [],
   "source": [
    "from string import punctuation"
   ]
  },
  {
   "cell_type": "code",
   "execution_count": 7,
   "metadata": {
    "scrolled": false
   },
   "outputs": [],
   "source": [
    "an_mystem = []\n",
    "for word in analyz:\n",
    "    if 'analysis' in word:\n",
    "        if word['analysis'] != []:\n",
    "            gr = word['analysis'][0]['gr']\n",
    "            pos = gr.split('=')[0].split(',')[0]\n",
    "            if pos == 'SPRO':\n",
    "                pos = 'PRON'\n",
    "            if pos == 'V':\n",
    "                pos = 'VERB'\n",
    "            if pos == 'APRO':\n",
    "                pos = 'PRON'\n",
    "            if pos == 'S':\n",
    "                pos = 'NOUN'\n",
    "            if pos == 'A':\n",
    "                pos = 'ADJ'\n",
    "            if pos == 'A':\n",
    "                pos = 'ADJ'\n",
    "            if pos == 'ANUM':\n",
    "                pos = 'ADJ'\n",
    "            if pos == 'CONJ':\n",
    "                pos = 'CCONJ'\n",
    "            if pos == 'CONJ':\n",
    "                pos = 'CCONJ'\n",
    "            \n",
    "            tuple_wordpos = (word['text'], pos)\n",
    "        else:\n",
    "            tuple_wordpos = (word['text'], 'no_answer')\n",
    "        an_mystem.append(tuple_wordpos)\n",
    "    elif word['text'].strip() in punctuation and word['text'].strip() != '':\n",
    "        pos = 'PUNCT'\n",
    "        tuple_wordpos = (word['text'], pos)\n",
    "        an_mystem.append(tuple_wordpos)\n",
    "\n",
    "# print(an_mystem)"
   ]
  },
  {
   "cell_type": "code",
   "execution_count": 8,
   "metadata": {},
   "outputs": [
    {
     "name": "stdout",
     "output_type": "stream",
     "text": [
      "('ни', 'CCONJ') ('ни', 'PART')\n",
      "('одного', 'PRON') ('одного', 'NUM')\n",
      "('больше', 'ADJ') ('больше', 'ADV')\n",
      "('Другие', 'PRON') ('Другие', 'ADJ')\n",
      "('мамина', 'ADJ') ('мамина', 'NOUN')\n",
      "('никовойная', 'NOUN') ('никовойная', 'ADJ')\n",
      "('нельзей', 'NOUN') ('нельзей', 'ADV')\n",
      "('Висю', 'NOUN') ('Висю', 'VERB')\n",
      "('потом', 'ADVPRO') ('потом', 'ADV')\n",
      "('стригя', 'no_answer') ('стригя', 'VERB')\n",
      "('пья', 'NOUN') ('пья', 'VERB')\n",
      "('скачяной', 'NOUN') ('скачяной', 'VERB')\n",
      "('офицальном', 'NOUN') ('офицальном', 'ADJ')\n",
      "('Ели', 'VERB') ('Ели', 'NOUN')\n",
      "Точность:  0.904109589041096\n"
     ]
    }
   ],
   "source": [
    "kolvo_mist = 0\n",
    "for i, a in enumerate(an_mystem):\n",
    "    if an_mystem[i][1] != an_gold[i][1]:\n",
    "        kolvo_mist += 1\n",
    "        print(an_mystem[i], an_gold[i])\n",
    "toch = 'Точность: '\n",
    "print(toch, 1 - kolvo_mist/len(an_gold))"
   ]
  },
  {
   "cell_type": "markdown",
   "metadata": {},
   "source": [
    "## Пробуем pymorphy2"
   ]
  },
  {
   "cell_type": "code",
   "execution_count": 9,
   "metadata": {},
   "outputs": [],
   "source": [
    "import nltk\n",
    "from nltk.tokenize import word_tokenize\n",
    "from pymorphy2 import MorphAnalyzer\n",
    "morph = MorphAnalyzer()"
   ]
  },
  {
   "cell_type": "code",
   "execution_count": 10,
   "metadata": {},
   "outputs": [],
   "source": [
    "pym_words = word_tokenize(text)"
   ]
  },
  {
   "cell_type": "code",
   "execution_count": 11,
   "metadata": {
    "scrolled": true
   },
   "outputs": [],
   "source": [
    "an_pymorph = []\n",
    "for word in pym_words:\n",
    "    analiz = morph.parse(word)\n",
    "    pos = str(analiz[0].tag.POS)\n",
    "    if pos == 'NPRO':\n",
    "        pos = 'PRON'\n",
    "    if pos == 'PRCL':\n",
    "        pos = 'PART'\n",
    "    if pos == 'ADJF':\n",
    "        pos = 'ADJ'\n",
    "    if pos == 'None':\n",
    "        pos = 'PUNCT'\n",
    "    if pos == 'PREP':\n",
    "        pos = 'PR'\n",
    "    if pos == 'PRTS':\n",
    "        pos = 'VERB'\n",
    "    if pos == 'CONJ':\n",
    "        pos = 'CCONJ'\n",
    "    if pos == 'INFN':\n",
    "        pos = 'VERB'\n",
    "    if pos == 'ADVB':\n",
    "        pos = 'ADV'\n",
    "    if pos == 'COMP':\n",
    "        pos = 'ADV'\n",
    "    if pos == 'GRND':\n",
    "        pos = 'VERB'\n",
    "    word = analiz[0].word\n",
    "    tuple_wordpos = (word, pos)\n",
    "    an_pymorph.append(tuple_wordpos)\n",
    "\n",
    "# print(an_pymorph)"
   ]
  },
  {
   "cell_type": "code",
   "execution_count": 12,
   "metadata": {},
   "outputs": [
    {
     "name": "stdout",
     "output_type": "stream",
     "text": [
      "('одного', 'ADJ') ('одного', 'NUM')\n",
      "('все', 'ADJ') ('все', 'PRON')\n",
      "('вчк', 'PUNCT') ('ВЧК', 'NOUN')\n",
      "('коуч', 'ADJS') ('коуч', 'NOUN')\n",
      "('мамина', 'ADJ') ('мамина', 'NOUN')\n",
      "('какие', 'ADJ') ('какие', 'PRON')\n",
      "('вагонята', 'VERB') ('вагонята', 'NOUN')\n",
      "('нельзей', 'NOUN') ('нельзей', 'ADV')\n",
      "('висю', 'NOUN') ('Висю', 'VERB')\n",
      "('пья', 'PUNCT') ('пья', 'VERB')\n",
      "('скачяной', 'NOUN') ('скачяной', 'VERB')\n",
      "('офицальном', 'NOUN') ('офицальном', 'ADJ')\n",
      "('ели', 'VERB') ('Ели', 'NOUN')\n",
      "('ваше', 'ADJ') ('ваше', 'PRON')\n",
      "('село', 'VERB') ('Село', 'NOUN')\n",
      "Точность:  0.8972602739726028\n"
     ]
    }
   ],
   "source": [
    "kolvo_mist = 0\n",
    "for i, a in enumerate(an_pymorph):\n",
    "    if an_pymorph[i][1] != an_gold[i][1]:\n",
    "        kolvo_mist += 1\n",
    "        print(an_pymorph[i], an_gold[i])\n",
    "\n",
    "toch = 'Точность: '\n",
    "print(toch, 1 - kolvo_mist/len(an_gold))"
   ]
  },
  {
   "cell_type": "markdown",
   "metadata": {},
   "source": [
    "Mystem при разборе учитывает контекст\n",
    "\n",
    "Pymorphy генерирует гипотезы для незнакомых слов, но не учитывает контекст"
   ]
  },
  {
   "cell_type": "markdown",
   "metadata": {},
   "source": [
    "## Пробуем natasha"
   ]
  },
  {
   "cell_type": "markdown",
   "metadata": {},
   "source": [
    "А natasha запускалась в колабе. (см. в той же папке)\n",
    "\n",
    "Точность разбора у наташи - 0.8287671232876712"
   ]
  },
  {
   "cell_type": "markdown",
   "metadata": {},
   "source": [
    "## Итог для русского:\n",
    "Побеждает Mystem"
   ]
  },
  {
   "cell_type": "markdown",
   "metadata": {},
   "source": [
    "## Английский"
   ]
  },
  {
   "cell_type": "code",
   "execution_count": 13,
   "metadata": {},
   "outputs": [],
   "source": [
    "text = '''Can you throw this can in the trash?\n",
    "They said the world was flat until somebody asked.\n",
    "The flat number five sounded very loud last night.\n",
    "Name just your name and surname.\n",
    "We water the flouers every day.\n",
    "I like to drink water.\n",
    "He run fast.\n",
    "This fast game was difficult.\n",
    "Lifting the limit on maximum amaunt might not be serving the purpose.\n",
    "Guys were helping him to lift this thing.\n",
    "All right, there is another lift.\n",
    "I have a dream.\n",
    "I sure wiish I could dream up a big steik dinner.\n",
    "Please, google it in Google.\n",
    "As I am just a noob in copywriting, I will need some help.\n",
    "'''"
   ]
  },
  {
   "cell_type": "markdown",
   "metadata": {},
   "source": [
    "### Объяснительная\n",
    "\n",
    "В этом тексте есть слова, написанные с ошибками, которые человеку просто распределить по частям речи. Присутствуют неологизмы, которых может не быть в словарях, по которым работают анализаторы. (Этим мы проверяем, могут ли они анализировать незнакомые им слова.)\n",
    "\n",
    "Ещё здесь есть примеры частеречной омонимии (dream, google и т.д.). (Этим мы проверяем, справляются ли они с омонимией. Хорошо ли учитывают контекст, если учитывают)."
   ]
  },
  {
   "cell_type": "code",
   "execution_count": 14,
   "metadata": {
    "scrolled": true
   },
   "outputs": [],
   "source": [
    "# Правильный разбор\n",
    "an_gold = [('Can', 'MD'), ('you', 'PRP'), ('throw', 'VB'), ('this', 'DT'), ('can', 'NN'), ('in', 'IN'), ('the', 'DT'), ('trash', 'NN'), ('?', '.'), ('They', 'PRP'), ('said', 'VBD'), ('the', 'DT'), ('world', 'NN'), ('was', 'VBD'), ('flat', 'JJ'), ('until', 'IN'), ('somebody', 'NN'), ('asked', 'VBD'), ('.', '.'), ('The', 'DT'), ('flat', 'NN'), ('number', 'NN'), ('five', 'CD'), ('sounded', 'VBD'), ('very', 'RB'), ('loud', 'RB'), ('last', 'JJ'), ('night', 'NN'), ('.', '.'), ('Name', 'VB'), ('just', 'RB'), ('your', 'PRP$'), ('name', 'NN'), ('and', 'CC'), ('surname', 'NN'), ('.', '.'), ('We', 'PRP'), ('water', 'VBP'), ('the', 'DT'), ('flouers', 'NNS'), ('every', 'DT'), ('day', 'NN'), ('.', '.'), ('I', 'PRP'), ('like', 'VBP'), ('to', 'TO'), ('drink', 'VB'), ('water', 'NN'), ('.', '.'), ('He', 'PRP'), ('run', 'VBD'), ('fast', 'RB'), ('.', '.'), ('This', 'DT'), ('fast', 'JJ'), ('game', 'NN'), ('was', 'VBD'), ('difficult', 'JJ'), ('.', '.'), ('Lifting', 'VBG'), ('the', 'DT'), ('limit', 'NN'), ('on', 'IN'), ('maximum', 'JJ'), ('amaunt', 'NN'), ('might', 'MD'), ('not', 'RB'), ('be', 'VB'), ('serving', 'VBG'), ('the', 'DT'), ('purpose', 'NN'), ('.', '.'), ('Guys', 'NNS'), ('were', 'VBD'), ('helping', 'VBG'), ('him', 'PRP'), ('to', 'TO'), ('lift', 'VB'), ('this', 'DT'), ('thing', 'NN'), ('.', '.'), ('All', 'DT'), ('right', 'RB'), (',', ','), ('there', 'EX'), ('is', 'VBZ'), ('another', 'DT'), ('lift', 'NN'), ('.', '.'), ('I', 'PRP'), ('have', 'VBP'), ('a', 'DT'), ('dream', 'NN'), ('.', '.'), ('I', 'PRP'), ('sure', 'JJ'), ('wiish', 'VBP'), ('I', 'PRP'), ('could', 'MD'), ('dream', 'VB'), ('up', 'RP'), ('a', 'DT'), ('big', 'JJ'), ('steik', 'NN'), ('dinner', 'NN'), ('.', '.'), ('Please', 'UH'), (',', ','), ('google', 'VB'), ('it', 'PRP'), ('in', 'IN'), ('Google', 'NNP'), ('.', '.'), ('As', 'IN'), ('I', 'PRP'), ('am', 'VBP'), ('just', 'RB'), ('a', 'DT'), ('noob', 'NN'), ('in', 'IN'), ('copywriting', 'VBG'), (',', ','), ('I', 'PRP'), ('will', 'MD'), ('need', 'VB'), ('some', 'DT'), ('help', 'NN'), ('.', '.')]"
   ]
  },
  {
   "cell_type": "markdown",
   "metadata": {},
   "source": [
    "## Пробуем nltk"
   ]
  },
  {
   "cell_type": "code",
   "execution_count": 15,
   "metadata": {},
   "outputs": [],
   "source": [
    "import nltk"
   ]
  },
  {
   "cell_type": "code",
   "execution_count": 16,
   "metadata": {},
   "outputs": [],
   "source": [
    "from nltk import sent_tokenize, word_tokenize, pos_tag"
   ]
  },
  {
   "cell_type": "code",
   "execution_count": 17,
   "metadata": {
    "scrolled": true
   },
   "outputs": [],
   "source": [
    "an_nltk = pos_tag(word_tokenize(text))\n",
    "# print(an_nltk)"
   ]
  },
  {
   "cell_type": "code",
   "execution_count": 18,
   "metadata": {},
   "outputs": [
    {
     "name": "stdout",
     "output_type": "stream",
     "text": [
      "('can', 'MD') ('can', 'NN')\n",
      "('flat', 'JJ') ('flat', 'NN')\n",
      "('sounded', 'JJ') ('sounded', 'VBD')\n",
      "('loud', 'JJ') ('loud', 'RB')\n",
      "('Name', 'NN') ('Name', 'VB')\n",
      "('water', 'NN') ('water', 'VBP')\n",
      "('Guys', 'NNP') ('Guys', 'NNS')\n",
      "('right', 'JJ') ('right', 'RB')\n",
      "('sure', 'VBP') ('sure', 'JJ')\n",
      "('wiish', 'JJ') ('wiish', 'VBP')\n",
      "('Please', 'NNP') ('Please', 'UH')\n",
      "('google', 'NN') ('google', 'VB')\n",
      "('copywriting', 'NN') ('copywriting', 'VBG')\n",
      "Точность:  0.8984375\n"
     ]
    }
   ],
   "source": [
    "kolvo_mist = 0\n",
    "for i, a in enumerate(an_nltk):\n",
    "    if an_nltk[i][1] != an_gold[i][1]:\n",
    "        kolvo_mist += 1\n",
    "        print(an_nltk[i], an_gold[i])\n",
    "\n",
    "toch = 'Точность: '\n",
    "print(toch, 1 - kolvo_mist/len(an_gold))"
   ]
  },
  {
   "cell_type": "markdown",
   "metadata": {},
   "source": [
    "## Пробуем flair"
   ]
  },
  {
   "cell_type": "code",
   "execution_count": 19,
   "metadata": {},
   "outputs": [
    {
     "name": "stdout",
     "output_type": "stream",
     "text": [
      "Requirement already satisfied: flair in /Users/tbkazakova/anaconda3/lib/python3.7/site-packages (0.6.1)\n",
      "Requirement already satisfied: hyperopt>=0.1.1 in /Users/tbkazakova/anaconda3/lib/python3.7/site-packages (from flair) (0.2.5)\n",
      "Requirement already satisfied: gensim>=3.4.0 in /Users/tbkazakova/anaconda3/lib/python3.7/site-packages (from flair) (3.8.1)\n",
      "Requirement already satisfied: sqlitedict>=1.6.0 in /Users/tbkazakova/anaconda3/lib/python3.7/site-packages (from flair) (1.7.0)\n",
      "Requirement already satisfied: ftfy in /Users/tbkazakova/anaconda3/lib/python3.7/site-packages (from flair) (5.8)\n",
      "Requirement already satisfied: matplotlib>=2.2.3 in /Users/tbkazakova/anaconda3/lib/python3.7/site-packages (from flair) (3.1.1)\n",
      "Requirement already satisfied: pytest>=5.3.2 in /Users/tbkazakova/anaconda3/lib/python3.7/site-packages (from flair) (6.1.1)\n",
      "Requirement already satisfied: transformers>=3.0.0 in /Users/tbkazakova/anaconda3/lib/python3.7/site-packages (from flair) (3.3.1)\n",
      "Requirement already satisfied: janome in /Users/tbkazakova/anaconda3/lib/python3.7/site-packages (from flair) (0.4.1)\n",
      "Requirement already satisfied: scikit-learn>=0.21.3 in /Users/tbkazakova/anaconda3/lib/python3.7/site-packages (from flair) (0.21.3)\n",
      "Requirement already satisfied: konoha<5.0.0,>=4.0.0 in /Users/tbkazakova/anaconda3/lib/python3.7/site-packages (from flair) (4.6.2)\n",
      "Requirement already satisfied: segtok>=1.5.7 in /Users/tbkazakova/anaconda3/lib/python3.7/site-packages (from flair) (1.5.10)\n",
      "Requirement already satisfied: tqdm>=4.26.0 in /Users/tbkazakova/anaconda3/lib/python3.7/site-packages (from flair) (4.50.2)\n",
      "Requirement already satisfied: lxml in /Users/tbkazakova/anaconda3/lib/python3.7/site-packages (from flair) (4.4.1)\n",
      "Requirement already satisfied: mpld3==0.3 in /Users/tbkazakova/anaconda3/lib/python3.7/site-packages (from flair) (0.3)\n",
      "Requirement already satisfied: python-dateutil>=2.6.1 in /Users/tbkazakova/anaconda3/lib/python3.7/site-packages (from flair) (2.8.0)\n",
      "Requirement already satisfied: regex in /Users/tbkazakova/anaconda3/lib/python3.7/site-packages (from flair) (2020.10.15)\n",
      "Requirement already satisfied: sentencepiece!=0.1.92 in /Users/tbkazakova/anaconda3/lib/python3.7/site-packages (from flair) (0.1.91)\n",
      "Requirement already satisfied: bpemb>=0.3.2 in /Users/tbkazakova/anaconda3/lib/python3.7/site-packages (from flair) (0.3.2)\n",
      "Requirement already satisfied: gdown in /Users/tbkazakova/anaconda3/lib/python3.7/site-packages (from flair) (3.12.2)\n",
      "Requirement already satisfied: langdetect in /Users/tbkazakova/anaconda3/lib/python3.7/site-packages (from flair) (1.0.8)\n",
      "Requirement already satisfied: deprecated>=1.2.4 in /Users/tbkazakova/anaconda3/lib/python3.7/site-packages (from flair) (1.2.10)\n",
      "Requirement already satisfied: tabulate in /Users/tbkazakova/anaconda3/lib/python3.7/site-packages (from flair) (0.8.7)\n",
      "Requirement already satisfied: torch>=1.1.0 in /Users/tbkazakova/anaconda3/lib/python3.7/site-packages (from flair) (1.6.0)\n",
      "Requirement already satisfied: networkx>=2.2 in /Users/tbkazakova/anaconda3/lib/python3.7/site-packages (from hyperopt>=0.1.1->flair) (2.3)\n",
      "Requirement already satisfied: scipy in /Users/tbkazakova/anaconda3/lib/python3.7/site-packages (from hyperopt>=0.1.1->flair) (1.3.1)\n",
      "Requirement already satisfied: cloudpickle in /Users/tbkazakova/anaconda3/lib/python3.7/site-packages (from hyperopt>=0.1.1->flair) (1.2.2)\n",
      "Requirement already satisfied: future in /Users/tbkazakova/anaconda3/lib/python3.7/site-packages (from hyperopt>=0.1.1->flair) (0.17.1)\n",
      "Requirement already satisfied: numpy in /Users/tbkazakova/anaconda3/lib/python3.7/site-packages (from hyperopt>=0.1.1->flair) (1.17.2)\n",
      "Requirement already satisfied: six in /Users/tbkazakova/anaconda3/lib/python3.7/site-packages (from hyperopt>=0.1.1->flair) (1.12.0)\n",
      "Requirement already satisfied: smart-open>=1.8.1 in /Users/tbkazakova/anaconda3/lib/python3.7/site-packages (from gensim>=3.4.0->flair) (1.8.4)\n",
      "Requirement already satisfied: wcwidth in /Users/tbkazakova/anaconda3/lib/python3.7/site-packages (from ftfy->flair) (0.1.7)\n",
      "Requirement already satisfied: cycler>=0.10 in /Users/tbkazakova/anaconda3/lib/python3.7/site-packages (from matplotlib>=2.2.3->flair) (0.10.0)\n",
      "Requirement already satisfied: kiwisolver>=1.0.1 in /Users/tbkazakova/anaconda3/lib/python3.7/site-packages (from matplotlib>=2.2.3->flair) (1.1.0)\n",
      "Requirement already satisfied: pyparsing!=2.0.4,!=2.1.2,!=2.1.6,>=2.0.1 in /Users/tbkazakova/anaconda3/lib/python3.7/site-packages (from matplotlib>=2.2.3->flair) (2.4.2)\n",
      "Requirement already satisfied: packaging in /Users/tbkazakova/anaconda3/lib/python3.7/site-packages (from pytest>=5.3.2->flair) (19.2)\n",
      "Requirement already satisfied: attrs>=17.4.0 in /Users/tbkazakova/anaconda3/lib/python3.7/site-packages (from pytest>=5.3.2->flair) (19.2.0)\n",
      "Requirement already satisfied: pluggy<1.0,>=0.12 in /Users/tbkazakova/anaconda3/lib/python3.7/site-packages (from pytest>=5.3.2->flair) (0.13.0)\n",
      "Requirement already satisfied: py>=1.8.2 in /Users/tbkazakova/anaconda3/lib/python3.7/site-packages (from pytest>=5.3.2->flair) (1.9.0)\n",
      "Requirement already satisfied: iniconfig in /Users/tbkazakova/anaconda3/lib/python3.7/site-packages (from pytest>=5.3.2->flair) (1.1.1)\n",
      "Requirement already satisfied: toml in /Users/tbkazakova/anaconda3/lib/python3.7/site-packages (from pytest>=5.3.2->flair) (0.10.1)\n",
      "Requirement already satisfied: importlib-metadata>=0.12; python_version < \"3.8\" in /Users/tbkazakova/anaconda3/lib/python3.7/site-packages (from pytest>=5.3.2->flair) (0.23)\n",
      "Requirement already satisfied: sacremoses in /Users/tbkazakova/anaconda3/lib/python3.7/site-packages (from transformers>=3.0.0->flair) (0.0.43)\n",
      "Requirement already satisfied: tokenizers==0.8.1.rc2 in /Users/tbkazakova/anaconda3/lib/python3.7/site-packages (from transformers>=3.0.0->flair) (0.8.1rc2)\n",
      "Requirement already satisfied: requests in /Users/tbkazakova/anaconda3/lib/python3.7/site-packages (from transformers>=3.0.0->flair) (2.22.0)\n",
      "Requirement already satisfied: filelock in /Users/tbkazakova/anaconda3/lib/python3.7/site-packages (from transformers>=3.0.0->flair) (3.0.12)\n",
      "Requirement already satisfied: joblib>=0.11 in /Users/tbkazakova/anaconda3/lib/python3.7/site-packages (from scikit-learn>=0.21.3->flair) (0.13.2)\n",
      "Requirement already satisfied: overrides==3.0.0 in /Users/tbkazakova/anaconda3/lib/python3.7/site-packages (from konoha<5.0.0,>=4.0.0->flair) (3.0.0)\n",
      "Requirement already satisfied: wrapt<2,>=1.10 in /Users/tbkazakova/anaconda3/lib/python3.7/site-packages (from deprecated>=1.2.4->flair) (1.11.2)\n",
      "Requirement already satisfied: decorator>=4.3.0 in /Users/tbkazakova/anaconda3/lib/python3.7/site-packages (from networkx>=2.2->hyperopt>=0.1.1->flair) (4.4.0)\n",
      "Requirement already satisfied: boto>=2.32 in /Users/tbkazakova/anaconda3/lib/python3.7/site-packages (from smart-open>=1.8.1->gensim>=3.4.0->flair) (2.49.0)\n",
      "Requirement already satisfied: boto3 in /Users/tbkazakova/anaconda3/lib/python3.7/site-packages (from smart-open>=1.8.1->gensim>=3.4.0->flair) (1.9.249)\n",
      "Requirement already satisfied: setuptools in /Users/tbkazakova/anaconda3/lib/python3.7/site-packages (from kiwisolver>=1.0.1->matplotlib>=2.2.3->flair) (41.4.0)\n",
      "Requirement already satisfied: zipp>=0.5 in /Users/tbkazakova/anaconda3/lib/python3.7/site-packages (from importlib-metadata>=0.12; python_version < \"3.8\"->pytest>=5.3.2->flair) (0.6.0)\n",
      "Requirement already satisfied: click in /Users/tbkazakova/anaconda3/lib/python3.7/site-packages (from sacremoses->transformers>=3.0.0->flair) (7.0)\n",
      "Requirement already satisfied: urllib3!=1.25.0,!=1.25.1,<1.26,>=1.21.1 in /Users/tbkazakova/anaconda3/lib/python3.7/site-packages (from requests->transformers>=3.0.0->flair) (1.24.2)\n",
      "Requirement already satisfied: certifi>=2017.4.17 in /Users/tbkazakova/anaconda3/lib/python3.7/site-packages (from requests->transformers>=3.0.0->flair) (2019.9.11)\n",
      "Requirement already satisfied: idna<2.9,>=2.5 in /Users/tbkazakova/anaconda3/lib/python3.7/site-packages (from requests->transformers>=3.0.0->flair) (2.8)\n",
      "Requirement already satisfied: chardet<3.1.0,>=3.0.2 in /Users/tbkazakova/anaconda3/lib/python3.7/site-packages (from requests->transformers>=3.0.0->flair) (3.0.4)\n",
      "Requirement already satisfied: botocore<1.13.0,>=1.12.249 in /Users/tbkazakova/anaconda3/lib/python3.7/site-packages (from boto3->smart-open>=1.8.1->gensim>=3.4.0->flair) (1.12.249)\n",
      "Requirement already satisfied: s3transfer<0.3.0,>=0.2.0 in /Users/tbkazakova/anaconda3/lib/python3.7/site-packages (from boto3->smart-open>=1.8.1->gensim>=3.4.0->flair) (0.2.1)\n",
      "Requirement already satisfied: jmespath<1.0.0,>=0.7.1 in /Users/tbkazakova/anaconda3/lib/python3.7/site-packages (from boto3->smart-open>=1.8.1->gensim>=3.4.0->flair) (0.9.4)\n",
      "Requirement already satisfied: more-itertools in /Users/tbkazakova/anaconda3/lib/python3.7/site-packages (from zipp>=0.5->importlib-metadata>=0.12; python_version < \"3.8\"->pytest>=5.3.2->flair) (7.2.0)\n",
      "Requirement already satisfied: docutils<0.16,>=0.10 in /Users/tbkazakova/anaconda3/lib/python3.7/site-packages (from botocore<1.13.0,>=1.12.249->boto3->smart-open>=1.8.1->gensim>=3.4.0->flair) (0.15.2)\n"
     ]
    }
   ],
   "source": [
    "! pip install flair"
   ]
  },
  {
   "cell_type": "code",
   "execution_count": 20,
   "metadata": {
    "scrolled": true
   },
   "outputs": [
    {
     "name": "stderr",
     "output_type": "stream",
     "text": [
      "/Users/tbkazakova/anaconda3/lib/python3.7/site-packages/tensorflow/python/framework/dtypes.py:516: FutureWarning: Passing (type, 1) or '1type' as a synonym of type is deprecated; in a future version of numpy, it will be understood as (type, (1,)) / '(1,)type'.\n",
      "  _np_qint8 = np.dtype([(\"qint8\", np.int8, 1)])\n",
      "/Users/tbkazakova/anaconda3/lib/python3.7/site-packages/tensorflow/python/framework/dtypes.py:517: FutureWarning: Passing (type, 1) or '1type' as a synonym of type is deprecated; in a future version of numpy, it will be understood as (type, (1,)) / '(1,)type'.\n",
      "  _np_quint8 = np.dtype([(\"quint8\", np.uint8, 1)])\n",
      "/Users/tbkazakova/anaconda3/lib/python3.7/site-packages/tensorflow/python/framework/dtypes.py:518: FutureWarning: Passing (type, 1) or '1type' as a synonym of type is deprecated; in a future version of numpy, it will be understood as (type, (1,)) / '(1,)type'.\n",
      "  _np_qint16 = np.dtype([(\"qint16\", np.int16, 1)])\n",
      "/Users/tbkazakova/anaconda3/lib/python3.7/site-packages/tensorflow/python/framework/dtypes.py:519: FutureWarning: Passing (type, 1) or '1type' as a synonym of type is deprecated; in a future version of numpy, it will be understood as (type, (1,)) / '(1,)type'.\n",
      "  _np_quint16 = np.dtype([(\"quint16\", np.uint16, 1)])\n",
      "/Users/tbkazakova/anaconda3/lib/python3.7/site-packages/tensorflow/python/framework/dtypes.py:520: FutureWarning: Passing (type, 1) or '1type' as a synonym of type is deprecated; in a future version of numpy, it will be understood as (type, (1,)) / '(1,)type'.\n",
      "  _np_qint32 = np.dtype([(\"qint32\", np.int32, 1)])\n",
      "/Users/tbkazakova/anaconda3/lib/python3.7/site-packages/tensorflow/python/framework/dtypes.py:525: FutureWarning: Passing (type, 1) or '1type' as a synonym of type is deprecated; in a future version of numpy, it will be understood as (type, (1,)) / '(1,)type'.\n",
      "  np_resource = np.dtype([(\"resource\", np.ubyte, 1)])\n",
      "/Users/tbkazakova/anaconda3/lib/python3.7/site-packages/tensorboard/compat/tensorflow_stub/dtypes.py:541: FutureWarning: Passing (type, 1) or '1type' as a synonym of type is deprecated; in a future version of numpy, it will be understood as (type, (1,)) / '(1,)type'.\n",
      "  _np_qint8 = np.dtype([(\"qint8\", np.int8, 1)])\n",
      "/Users/tbkazakova/anaconda3/lib/python3.7/site-packages/tensorboard/compat/tensorflow_stub/dtypes.py:542: FutureWarning: Passing (type, 1) or '1type' as a synonym of type is deprecated; in a future version of numpy, it will be understood as (type, (1,)) / '(1,)type'.\n",
      "  _np_quint8 = np.dtype([(\"quint8\", np.uint8, 1)])\n",
      "/Users/tbkazakova/anaconda3/lib/python3.7/site-packages/tensorboard/compat/tensorflow_stub/dtypes.py:543: FutureWarning: Passing (type, 1) or '1type' as a synonym of type is deprecated; in a future version of numpy, it will be understood as (type, (1,)) / '(1,)type'.\n",
      "  _np_qint16 = np.dtype([(\"qint16\", np.int16, 1)])\n",
      "/Users/tbkazakova/anaconda3/lib/python3.7/site-packages/tensorboard/compat/tensorflow_stub/dtypes.py:544: FutureWarning: Passing (type, 1) or '1type' as a synonym of type is deprecated; in a future version of numpy, it will be understood as (type, (1,)) / '(1,)type'.\n",
      "  _np_quint16 = np.dtype([(\"quint16\", np.uint16, 1)])\n",
      "/Users/tbkazakova/anaconda3/lib/python3.7/site-packages/tensorboard/compat/tensorflow_stub/dtypes.py:545: FutureWarning: Passing (type, 1) or '1type' as a synonym of type is deprecated; in a future version of numpy, it will be understood as (type, (1,)) / '(1,)type'.\n",
      "  _np_qint32 = np.dtype([(\"qint32\", np.int32, 1)])\n",
      "/Users/tbkazakova/anaconda3/lib/python3.7/site-packages/tensorboard/compat/tensorflow_stub/dtypes.py:550: FutureWarning: Passing (type, 1) or '1type' as a synonym of type is deprecated; in a future version of numpy, it will be understood as (type, (1,)) / '(1,)type'.\n",
      "  np_resource = np.dtype([(\"resource\", np.ubyte, 1)])\n"
     ]
    }
   ],
   "source": [
    "from flair.data import Sentence\n",
    "from flair.models import SequenceTagger"
   ]
  },
  {
   "cell_type": "code",
   "execution_count": 21,
   "metadata": {},
   "outputs": [],
   "source": [
    "sentence = Sentence(text)"
   ]
  },
  {
   "cell_type": "code",
   "execution_count": 22,
   "metadata": {},
   "outputs": [
    {
     "name": "stdout",
     "output_type": "stream",
     "text": [
      "2020-10-18 23:33:22,604 loading file /Users/tbkazakova/.flair/models/en-pos-ontonotes-v0.5.pt\n"
     ]
    }
   ],
   "source": [
    "tagger = SequenceTagger.load('pos')"
   ]
  },
  {
   "cell_type": "code",
   "execution_count": 23,
   "metadata": {},
   "outputs": [],
   "source": [
    "tagger.predict(sentence)"
   ]
  },
  {
   "cell_type": "code",
   "execution_count": 24,
   "metadata": {},
   "outputs": [],
   "source": [
    "import re"
   ]
  },
  {
   "cell_type": "code",
   "execution_count": 25,
   "metadata": {},
   "outputs": [],
   "source": [
    "an_flair = re.findall('<(.+?)>', sentence.to_tagged_string())"
   ]
  },
  {
   "cell_type": "code",
   "execution_count": 26,
   "metadata": {},
   "outputs": [
    {
     "name": "stdout",
     "output_type": "stream",
     "text": [
      "MD ('can', 'NN')\n",
      "JJ ('flat', 'NN')\n",
      "JJ ('loud', 'RB')\n",
      "VBP ('run', 'VBD')\n",
      "RB ('All', 'DT')\n",
      "RB ('sure', 'JJ')\n",
      "NN ('copywriting', 'VBG')\n",
      "Точность:  0.9453125\n"
     ]
    }
   ],
   "source": [
    "kolvo_mist = 0\n",
    "for i, a in enumerate(an_flair):\n",
    "    if an_flair[i] != an_gold[i][1] and an_flair[i] != ',':\n",
    "        kolvo_mist += 1\n",
    "        print(an_flair[i], an_gold[i])\n",
    "\n",
    "toch = 'Точность: '\n",
    "print(toch, 1 - kolvo_mist/len(an_gold))"
   ]
  },
  {
   "cell_type": "markdown",
   "metadata": {},
   "source": [
    "## Пробуем SpyCy"
   ]
  },
  {
   "cell_type": "markdown",
   "metadata": {},
   "source": [
    "А SpyCy запускался в колабе. (см. в той же папке)\n",
    "\n",
    "Точность разбора у SpyCy - 0.9296875"
   ]
  },
  {
   "cell_type": "markdown",
   "metadata": {},
   "source": [
    "## Итог для английского:\n",
    "Побеждает flair"
   ]
  }
 ],
 "metadata": {
  "kernelspec": {
   "display_name": "Python 3",
   "language": "python",
   "name": "python3"
  },
  "language_info": {
   "codemirror_mode": {
    "name": "ipython",
    "version": 3
   },
   "file_extension": ".py",
   "mimetype": "text/x-python",
   "name": "python",
   "nbconvert_exporter": "python",
   "pygments_lexer": "ipython3",
   "version": "3.7.4"
  }
 },
 "nbformat": 4,
 "nbformat_minor": 2
}
