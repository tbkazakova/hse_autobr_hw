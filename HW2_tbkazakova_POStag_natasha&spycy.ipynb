{
  "nbformat": 4,
  "nbformat_minor": 0,
  "metadata": {
    "colab": {
      "name": "HW2_tbkazakova_POStag_natasha&spycy.ipynb",
      "provenance": [],
      "collapsed_sections": []
    },
    "kernelspec": {
      "name": "python3",
      "display_name": "Python 3"
    }
  },
  "cells": [
    {
      "cell_type": "markdown",
      "metadata": {
        "id": "ry4m9dQBQbhJ"
      },
      "source": [
        "# **Natasha**"
      ]
    },
    {
      "cell_type": "code",
      "metadata": {
        "id": "yPvISAkk0uf9"
      },
      "source": [
        "text = '''Я не видел ни одного электромобиля.\n",
        "\n",
        "Я на фрилансе.\n",
        "\n",
        "Троллинг может быть добрым?\n",
        "\n",
        "Залайкал все фотоприколы, гифки\n",
        "\n",
        "Кинь в личку гифки от никнейма. Ютуб и ютюб люблю больше фэйсбука.\n",
        "\n",
        "\n",
        "Другие сложности\n",
        "\n",
        "ВЧК, ОГПУ, МФТИ аббревиатуры.\n",
        "\n",
        "Тёмно-русый штабс-капитан пятнадцатого полка съел лимон в читальне в пятиэтажном доме на юго-западе района.\n",
        "\n",
        "Лайф коуч, фэшн индустрия.\n",
        "\n",
        "\n",
        "\n",
        "Дети создают замечательные несуществующие слова.\n",
        "\n",
        "Я мамина и больше никовойная.\n",
        "\n",
        "Муж стрекозы стрекозел.\n",
        "\n",
        "Папа, смотри, какие вагонята хорошенькие!\n",
        "\n",
        "Почтаник идет! \n",
        "Опесатки и ошипки. Выдумки.\n",
        "\n",
        "Предавать нельзей. Висю пока, но потом побежу, стригя, пья и вяжа одновременно. \n",
        "\n",
        "Агенство расчитала скачяной програмой отзовы однокласников об офицальном руссификаторе. Зделано в Тайланде. \n",
        "\n",
        "\n",
        "Ели стоят зелёными круглый год. Ели мы ваше печенье.\n",
        "\n",
        "Село уснуло, солнце село.\n",
        "'''\n",
        "doc = Doc(text)"
      ],
      "execution_count": 111,
      "outputs": []
    },
    {
      "cell_type": "code",
      "metadata": {
        "id": "sTPGCoBnBBvi"
      },
      "source": [
        "# Правильный разбор\n",
        "an_gold = [('Я', 'PRON'), ('не', 'PART'), ('видел', 'VERB'), ('ни', 'PART'), ('одного', 'NUM'), ('электромобиля', 'NOUN'), ('.', 'PUNCT'), ('Я', 'PRON'), ('на', 'PR'), ('фрилансе', 'NOUN'), ('.', 'PUNCT'), ('Троллинг', 'NOUN'), ('может', 'VERB'), ('быть', 'VERB'), ('добрым', 'ADJ'), ('?', 'PUNCT'), ('Залайкал', 'VERB'), ('все', 'PRON'), ('фотоприколы', 'NOUN'), (',', 'PUNCT'), ('гифки', 'NOUN'), ('Кинь', 'VERB'), ('в', 'PR'), ('личку', 'NOUN'), ('гифки', 'NOUN'), ('от', 'PR'), ('никнейма', 'NOUN'), ('.', 'PUNCT'), ('Ютуб', 'NOUN'), ('и', 'CCONJ'), ('ютюб', 'NOUN'), ('люблю', 'VERB'), ('больше', 'ADV'), ('фэйсбука', 'NOUN'), ('.', 'PUNCT'), ('Другие', 'ADJ'), ('сложности', 'NOUN'), ('ВЧК', 'NOUN'), (',', 'PUNCT'), ('ОГПУ', 'NOUN'), (',', 'PUNCT'), ('МФТИ', 'NOUN'), ('аббревиатуры', 'NOUN'), ('.', 'PUNCT'), ('Тёмно-русый', 'ADJ'), ('штабс-капитан', 'NOUN'), ('пятнадцатого', 'ADJ'), ('полка', 'NOUN'), ('съел', 'VERB'), ('лимон', 'NOUN'), ('в', 'PR'), ('читальне', 'NOUN'), ('в', 'PR'), ('пятиэтажном', 'ADJ'), ('доме', 'NOUN'), ('на', 'PR'), ('юго-западе', 'NOUN'), ('района', 'NOUN'), ('.', 'PUNCT'), ('Лайф', 'NOUN'), ('коуч', 'NOUN'), (',', 'PUNCT'), ('фэшн', 'NOUN'), ('индустрия', 'NOUN'), ('.', 'PUNCT'), ('Дети', 'NOUN'), ('создают', 'VERB'), ('замечательные', 'ADJ'), ('несуществующие', 'ADJ'), ('слова', 'NOUN'), ('.', 'PUNCT'), ('Я', 'PRON'), ('мамина', 'NOUN'), ('и', 'CCONJ'), ('больше', 'ADV'), ('никовойная', 'ADJ'), ('.', 'PUNCT'), ('Муж', 'NOUN'), ('стрекозы', 'NOUN'), ('стрекозел', 'NOUN'), ('.', 'PUNCT'), ('Папа', 'NOUN'), (',', 'PUNCT'), ('смотри', 'VERB'), (',', 'PUNCT'), ('какие', 'PRON'), ('вагонята', 'NOUN'), ('хорошенькие', 'ADJ'), ('!', 'PUNCT'), ('Почтаник', 'NOUN'), ('идет', 'VERB'), ('!', 'PUNCT'), ('Опесатки', 'NOUN'), ('и', 'CCONJ'), ('ошипки', 'NOUN'), ('.', 'PUNCT'), ('Выдумки', 'NOUN'), ('.', 'PUNCT'), ('Предавать', 'VERB'), ('нельзей', 'ADV'), ('.', 'PUNCT'), ('Висю', 'VERB'), ('пока', 'ADV'), (',', 'PUNCT'), ('но', 'CCONJ'), ('потом', 'ADV'), ('побежу', 'VERB'), (',', 'PUNCT'), ('стригя', 'VERB'), (',', 'PUNCT'), ('пья', 'VERB'), ('и', 'CCONJ'), ('вяжа', 'VERB'), ('одновременно', 'ADV'), ('.', 'PUNCT'), ('Агенство', 'NOUN'), ('расчитала', 'VERB'), ('скачяной', 'VERB'), ('програмой', 'NOUN'), ('отзовы', 'NOUN'), ('однокласников', 'NOUN'), ('об', 'PR'), ('офицальном', 'ADJ'), ('руссификаторе', 'NOUN'), ('.', 'PUNCT'), ('Зделано', 'VERB'), ('в', 'PR'), ('Тайланде', 'NOUN'), ('.', 'PUNCT'), ('Ели', 'NOUN'), ('стоят', 'VERB'), ('зелёными', 'ADJ'), ('круглый', 'ADJ'), ('год', 'NOUN'), ('.', 'PUNCT'), ('Ели', 'VERB'), ('мы', 'PRON'), ('ваше', 'PRON'), ('печенье', 'NOUN'), ('.', 'PUNCT'), ('Село', 'NOUN'), ('уснуло', 'VERB'), (',', 'PUNCT'), ('солнце', 'NOUN'), ('село', 'VERB'), ('.', 'PUNCT')]"
      ],
      "execution_count": 112,
      "outputs": []
    },
    {
      "cell_type": "code",
      "metadata": {
        "id": "NGVZC_GL0Iko",
        "outputId": "1e0e2fd2-86d6-4acb-dc83-eca87d95f420",
        "colab": {
          "base_uri": "https://localhost:8080/",
          "height": 228
        }
      },
      "source": [
        "!pip install natasha"
      ],
      "execution_count": 113,
      "outputs": [
        {
          "output_type": "stream",
          "text": [
            "Requirement already satisfied: natasha in /usr/local/lib/python3.6/dist-packages (1.3.0)\n",
            "Requirement already satisfied: slovnet>=0.3.0 in /usr/local/lib/python3.6/dist-packages (from natasha) (0.4.0)\n",
            "Requirement already satisfied: ipymarkup>=0.8.0 in /usr/local/lib/python3.6/dist-packages (from natasha) (0.9.0)\n",
            "Requirement already satisfied: pymorphy2 in /usr/local/lib/python3.6/dist-packages (from natasha) (0.9.1)\n",
            "Requirement already satisfied: navec>=0.9.0 in /usr/local/lib/python3.6/dist-packages (from natasha) (0.9.0)\n",
            "Requirement already satisfied: yargy>=0.14.0 in /usr/local/lib/python3.6/dist-packages (from natasha) (0.14.0)\n",
            "Requirement already satisfied: razdel>=0.5.0 in /usr/local/lib/python3.6/dist-packages (from natasha) (0.5.0)\n",
            "Requirement already satisfied: numpy in /usr/local/lib/python3.6/dist-packages (from slovnet>=0.3.0->natasha) (1.18.5)\n",
            "Requirement already satisfied: intervaltree>=3 in /usr/local/lib/python3.6/dist-packages (from ipymarkup>=0.8.0->natasha) (3.1.0)\n",
            "Requirement already satisfied: dawg-python>=0.7.1 in /usr/local/lib/python3.6/dist-packages (from pymorphy2->natasha) (0.7.2)\n",
            "Requirement already satisfied: pymorphy2-dicts-ru<3.0,>=2.4 in /usr/local/lib/python3.6/dist-packages (from pymorphy2->natasha) (2.4.417127.4579844)\n",
            "Requirement already satisfied: docopt>=0.6 in /usr/local/lib/python3.6/dist-packages (from pymorphy2->natasha) (0.6.2)\n",
            "Requirement already satisfied: sortedcontainers<3.0,>=2.0 in /usr/local/lib/python3.6/dist-packages (from intervaltree>=3->ipymarkup>=0.8.0->natasha) (2.2.2)\n"
          ],
          "name": "stdout"
        }
      ]
    },
    {
      "cell_type": "code",
      "metadata": {
        "id": "TT4fZ86u0NaP"
      },
      "source": [
        "from natasha import (\n",
        "    Segmenter,\n",
        "    MorphVocab,\n",
        "    \n",
        "    NewsEmbedding,\n",
        "    NewsMorphTagger,\n",
        "    NewsSyntaxParser,\n",
        "    NewsNERTagger,\n",
        "    \n",
        "    PER,\n",
        "    NamesExtractor,\n",
        "\n",
        "    Doc\n",
        ")"
      ],
      "execution_count": 114,
      "outputs": []
    },
    {
      "cell_type": "code",
      "metadata": {
        "id": "5RlvJOCd0b1W"
      },
      "source": [
        "segmenter = Segmenter()\n",
        "\n",
        "emb = NewsEmbedding()\n",
        "morph_tagger = NewsMorphTagger(emb)\n",
        "syntax_parser = NewsSyntaxParser(emb)\n",
        "ner_tagger = NewsNERTagger(emb)"
      ],
      "execution_count": 115,
      "outputs": []
    },
    {
      "cell_type": "code",
      "metadata": {
        "id": "Ha_pQbu_0gFl",
        "outputId": "ad6ba969-8c7b-4060-e9ac-2ac076d4eaee",
        "colab": {
          "base_uri": "https://localhost:8080/",
          "height": 82
        }
      },
      "source": [
        "! pip install slovnet"
      ],
      "execution_count": 116,
      "outputs": [
        {
          "output_type": "stream",
          "text": [
            "Requirement already satisfied: slovnet in /usr/local/lib/python3.6/dist-packages (0.4.0)\n",
            "Requirement already satisfied: navec in /usr/local/lib/python3.6/dist-packages (from slovnet) (0.9.0)\n",
            "Requirement already satisfied: numpy in /usr/local/lib/python3.6/dist-packages (from slovnet) (1.18.5)\n",
            "Requirement already satisfied: razdel in /usr/local/lib/python3.6/dist-packages (from slovnet) (0.5.0)\n"
          ],
          "name": "stdout"
        }
      ]
    },
    {
      "cell_type": "code",
      "metadata": {
        "id": "cYB5C0Ai0lCf"
      },
      "source": [
        "an_natasha = []\n",
        "doc.segment(segmenter)\n",
        "doc.tag_morph(morph_tagger)\n",
        "for a in doc.morph.tokens:\n",
        "    if a.pos == 'ADP':\n",
        "      a.pos = 'PR'\n",
        "    if a.pos == 'PROPN':\n",
        "      a.pos = 'NOUN'\n",
        "    if a.pos == 'AUX':\n",
        "      a.pos = 'VERB'\n",
        "    if a.pos == 'DET':\n",
        "      a.pos = 'PRON'\n",
        "    if a.pos == 'X':\n",
        "      a.pos = 'no_answer'\n",
        "    tuple_wordpos = (a.text, a.pos)\n",
        "    an_natasha.append(tuple_wordpos)\n",
        "# print(an_natasha)"
      ],
      "execution_count": 88,
      "outputs": []
    },
    {
      "cell_type": "code",
      "metadata": {
        "id": "kmjJ-AbnJXxL",
        "outputId": "bc727998-490b-4852-b083-22286bfdbb25",
        "colab": {
          "base_uri": "https://localhost:8080/",
          "height": 440
        }
      },
      "source": [
        "kolvo_mist = 0\n",
        "for i, a in enumerate(an_natasha):\n",
        "    if an_natasha[i][1] != an_gold[i][1]:\n",
        "        kolvo_mist += 1\n",
        "        print(an_natasha[i], an_gold[i])\n",
        "\n",
        "toch = 'Точность: '\n",
        "print(1 - kolvo_mist/len(an_gold))"
      ],
      "execution_count": 117,
      "outputs": [
        {
          "output_type": "stream",
          "text": [
            "('Залайкал', 'NOUN') ('Залайкал', 'VERB')\n",
            "('Кинь', 'NOUN') ('Кинь', 'VERB')\n",
            "('ютюб', 'VERB') ('ютюб', 'NOUN')\n",
            "('больше', 'NUM') ('больше', 'ADV')\n",
            "('фэйсбука', 'VERB') ('фэйсбука', 'NOUN')\n",
            "('Тёмно-русый', 'NOUN') ('Тёмно-русый', 'ADJ')\n",
            "('штабс-капитан', 'PART') ('штабс-капитан', 'NOUN')\n",
            "('Лайф', 'no_answer') ('Лайф', 'NOUN')\n",
            "('фэшн', 'VERB') ('фэшн', 'NOUN')\n",
            "('больше', 'NUM') ('больше', 'ADV')\n",
            "('никовойная', 'NOUN') ('никовойная', 'ADJ')\n",
            "('вагонята', 'ADJ') ('вагонята', 'NOUN')\n",
            "('хорошенькие', 'NOUN') ('хорошенькие', 'ADJ')\n",
            "('нельзей', 'NOUN') ('нельзей', 'ADV')\n",
            "('Висю', 'NOUN') ('Висю', 'VERB')\n",
            "('стригя', 'NOUN') ('стригя', 'VERB')\n",
            "('пья', 'NOUN') ('пья', 'VERB')\n",
            "('вяжа', 'NOUN') ('вяжа', 'VERB')\n",
            "('скачяной', 'no_answer') ('скачяной', 'VERB')\n",
            "('програмой', 'ADJ') ('програмой', 'NOUN')\n",
            "('отзовы', 'ADJ') ('отзовы', 'NOUN')\n",
            "('Зделано', 'NOUN') ('Зделано', 'VERB')\n",
            "('зелёными', 'NOUN') ('зелёными', 'ADJ')\n",
            "('Ели', 'NOUN') ('Ели', 'VERB')\n",
            "('село', 'NOUN') ('село', 'VERB')\n",
            "0.8287671232876712\n"
          ],
          "name": "stdout"
        }
      ]
    },
    {
      "cell_type": "markdown",
      "metadata": {
        "id": "Cfu2xYnnQNuH"
      },
      "source": [
        "# **SpyCy**"
      ]
    },
    {
      "cell_type": "code",
      "metadata": {
        "id": "-IqNTiXQQTah"
      },
      "source": [
        "text = '''Can you throw this can in the trash?\n",
        "They said the world was flat until somebody asked.\n",
        "The flat number five sounded very loud last night.\n",
        "Name just your name and surname.\n",
        "We water the flouers every day.\n",
        "I like to drink water.\n",
        "He run fast.\n",
        "This fast game was difficult.\n",
        "Lifting the limit on maximum amaunt might not be serving the purpose.\n",
        "Guys were helping him to lift this thing.\n",
        "All right, there is another lift.\n",
        "I have a dream.\n",
        "I sure wiish I could dream up a big steik dinner.\n",
        "Please, google it in Google.\n",
        "As I am just a noob in copywriting, I will need some help.\n",
        "'''"
      ],
      "execution_count": 118,
      "outputs": []
    },
    {
      "cell_type": "code",
      "metadata": {
        "id": "VtLnq2ZLValw"
      },
      "source": [
        "# Правильный разбор\n",
        "an_gold = [('Can', 'MD'), ('you', 'PRP'), ('throw', 'VB'), ('this', 'DT'), ('can', 'NN'), ('in', 'IN'), ('the', 'DT'), ('trash', 'NN'), ('?', '.'), ('They', 'PRP'), ('said', 'VBD'), ('the', 'DT'), ('world', 'NN'), ('was', 'VBD'), ('flat', 'JJ'), ('until', 'IN'), ('somebody', 'NN'), ('asked', 'VBD'), ('.', '.'), ('The', 'DT'), ('flat', 'NN'), ('number', 'NN'), ('five', 'CD'), ('sounded', 'VBD'), ('very', 'RB'), ('loud', 'RB'), ('last', 'JJ'), ('night', 'NN'), ('.', '.'), ('Name', 'VB'), ('just', 'RB'), ('your', 'PRP$'), ('name', 'NN'), ('and', 'CC'), ('surname', 'NN'), ('.', '.'), ('We', 'PRP'), ('water', 'VBP'), ('the', 'DT'), ('flouers', 'NNS'), ('every', 'DT'), ('day', 'NN'), ('.', '.'), ('I', 'PRP'), ('like', 'VBP'), ('to', 'TO'), ('drink', 'VB'), ('water', 'NN'), ('.', '.'), ('He', 'PRP'), ('run', 'VBD'), ('fast', 'RB'), ('.', '.'), ('This', 'DT'), ('fast', 'JJ'), ('game', 'NN'), ('was', 'VBD'), ('difficult', 'JJ'), ('.', '.'), ('Lifting', 'VBG'), ('the', 'DT'), ('limit', 'NN'), ('on', 'IN'), ('maximum', 'JJ'), ('amaunt', 'NN'), ('might', 'MD'), ('not', 'RB'), ('be', 'VB'), ('serving', 'VBG'), ('the', 'DT'), ('purpose', 'NN'), ('.', '.'), ('Guys', 'NNS'), ('were', 'VBD'), ('helping', 'VBG'), ('him', 'PRP'), ('to', 'TO'), ('lift', 'VB'), ('this', 'DT'), ('thing', 'NN'), ('.', '.'), ('All', 'DT'), ('right', 'RB'), (',', ','), ('there', 'EX'), ('is', 'VBZ'), ('another', 'DT'), ('lift', 'NN'), ('.', '.'), ('I', 'PRP'), ('have', 'VBP'), ('a', 'DT'), ('dream', 'NN'), ('.', '.'), ('I', 'PRP'), ('sure', 'JJ'), ('wiish', 'VBP'), ('I', 'PRP'), ('could', 'MD'), ('dream', 'VB'), ('up', 'RP'), ('a', 'DT'), ('big', 'JJ'), ('steik', 'NN'), ('dinner', 'NN'), ('.', '.'), ('Please', 'UH'), (',', ','), ('google', 'VB'), ('it', 'PRP'), ('in', 'IN'), ('Google', 'NNP'), ('.', '.'), ('As', 'IN'), ('I', 'PRP'), ('am', 'VBP'), ('just', 'RB'), ('a', 'DT'), ('noob', 'NN'), ('in', 'IN'), ('copywriting', 'VBG'), (',', ','), ('I', 'PRP'), ('will', 'MD'), ('need', 'VB'), ('some', 'DT'), ('help', 'NN'), ('.', '.')]"
      ],
      "execution_count": 119,
      "outputs": []
    },
    {
      "cell_type": "code",
      "metadata": {
        "id": "6HaeZwYsOkJJ",
        "outputId": "38636a76-d319-42bf-cf55-2181a5cc88ae",
        "colab": {
          "base_uri": "https://localhost:8080/",
          "height": 362
        }
      },
      "source": [
        "pip install -U spacy"
      ],
      "execution_count": 120,
      "outputs": [
        {
          "output_type": "stream",
          "text": [
            "Requirement already up-to-date: spacy in /usr/local/lib/python3.6/dist-packages (2.3.2)\n",
            "Requirement already satisfied, skipping upgrade: thinc==7.4.1 in /usr/local/lib/python3.6/dist-packages (from spacy) (7.4.1)\n",
            "Requirement already satisfied, skipping upgrade: setuptools in /usr/local/lib/python3.6/dist-packages (from spacy) (50.3.0)\n",
            "Requirement already satisfied, skipping upgrade: cymem<2.1.0,>=2.0.2 in /usr/local/lib/python3.6/dist-packages (from spacy) (2.0.3)\n",
            "Requirement already satisfied, skipping upgrade: srsly<1.1.0,>=1.0.2 in /usr/local/lib/python3.6/dist-packages (from spacy) (1.0.2)\n",
            "Requirement already satisfied, skipping upgrade: wasabi<1.1.0,>=0.4.0 in /usr/local/lib/python3.6/dist-packages (from spacy) (0.8.0)\n",
            "Requirement already satisfied, skipping upgrade: numpy>=1.15.0 in /usr/local/lib/python3.6/dist-packages (from spacy) (1.18.5)\n",
            "Requirement already satisfied, skipping upgrade: tqdm<5.0.0,>=4.38.0 in /usr/local/lib/python3.6/dist-packages (from spacy) (4.41.1)\n",
            "Requirement already satisfied, skipping upgrade: blis<0.5.0,>=0.4.0 in /usr/local/lib/python3.6/dist-packages (from spacy) (0.4.1)\n",
            "Requirement already satisfied, skipping upgrade: requests<3.0.0,>=2.13.0 in /usr/local/lib/python3.6/dist-packages (from spacy) (2.23.0)\n",
            "Requirement already satisfied, skipping upgrade: catalogue<1.1.0,>=0.0.7 in /usr/local/lib/python3.6/dist-packages (from spacy) (1.0.0)\n",
            "Requirement already satisfied, skipping upgrade: murmurhash<1.1.0,>=0.28.0 in /usr/local/lib/python3.6/dist-packages (from spacy) (1.0.2)\n",
            "Requirement already satisfied, skipping upgrade: preshed<3.1.0,>=3.0.2 in /usr/local/lib/python3.6/dist-packages (from spacy) (3.0.2)\n",
            "Requirement already satisfied, skipping upgrade: plac<1.2.0,>=0.9.6 in /usr/local/lib/python3.6/dist-packages (from spacy) (1.1.3)\n",
            "Requirement already satisfied, skipping upgrade: urllib3!=1.25.0,!=1.25.1,<1.26,>=1.21.1 in /usr/local/lib/python3.6/dist-packages (from requests<3.0.0,>=2.13.0->spacy) (1.24.3)\n",
            "Requirement already satisfied, skipping upgrade: chardet<4,>=3.0.2 in /usr/local/lib/python3.6/dist-packages (from requests<3.0.0,>=2.13.0->spacy) (3.0.4)\n",
            "Requirement already satisfied, skipping upgrade: idna<3,>=2.5 in /usr/local/lib/python3.6/dist-packages (from requests<3.0.0,>=2.13.0->spacy) (2.10)\n",
            "Requirement already satisfied, skipping upgrade: certifi>=2017.4.17 in /usr/local/lib/python3.6/dist-packages (from requests<3.0.0,>=2.13.0->spacy) (2020.6.20)\n",
            "Requirement already satisfied, skipping upgrade: importlib-metadata>=0.20; python_version < \"3.8\" in /usr/local/lib/python3.6/dist-packages (from catalogue<1.1.0,>=0.0.7->spacy) (2.0.0)\n",
            "Requirement already satisfied, skipping upgrade: zipp>=0.5 in /usr/local/lib/python3.6/dist-packages (from importlib-metadata>=0.20; python_version < \"3.8\"->catalogue<1.1.0,>=0.0.7->spacy) (3.2.0)\n"
          ],
          "name": "stdout"
        }
      ]
    },
    {
      "cell_type": "code",
      "metadata": {
        "id": "NaOdjkXXOkcO"
      },
      "source": [
        "import spacy"
      ],
      "execution_count": 121,
      "outputs": []
    },
    {
      "cell_type": "code",
      "metadata": {
        "id": "dLhV2JMsOv8A",
        "outputId": "600900db-2eab-4325-d6d8-041f92be11bd",
        "colab": {
          "base_uri": "https://localhost:8080/",
          "height": 70
        }
      },
      "source": [
        "nlp = spacy.load(\"en_core_web_sm\")"
      ],
      "execution_count": 122,
      "outputs": [
        {
          "output_type": "stream",
          "text": [
            "/usr/local/lib/python3.6/dist-packages/spacy/util.py:275: UserWarning: [W031] Model 'en_core_web_sm' (2.2.5) requires spaCy v2.2 and is incompatible with the current spaCy version (2.3.2). This may lead to unexpected results or runtime errors. To resolve this, download a newer compatible model or retrain your custom model with the current spaCy version. For more details and available updates, run: python -m spacy validate\n",
            "  warnings.warn(warn_msg)\n"
          ],
          "name": "stderr"
        }
      ]
    },
    {
      "cell_type": "code",
      "metadata": {
        "id": "h_nVD-kbOz2X"
      },
      "source": [
        "doc = nlp(text)\n",
        "an_spycy = []\n",
        "for token in doc:\n",
        "    if token.text != '\\n':\n",
        "        tuple_wordpos = (token.text, token.tag_)\n",
        "        an_spycy.append(tuple_wordpos)\n",
        "# print(an_spycy)"
      ],
      "execution_count": 123,
      "outputs": []
    },
    {
      "cell_type": "code",
      "metadata": {
        "id": "OqDf8d1baCIU",
        "outputId": "9e7e18f9-a3fe-4820-84a2-a9300dc05556",
        "colab": {
          "base_uri": "https://localhost:8080/",
          "height": 180
        }
      },
      "source": [
        "kolvo_mist = 0\n",
        "for i, a in enumerate(an_spycy):\n",
        "    if an_spycy[i][1] != an_gold[i][1]:\n",
        "        kolvo_mist += 1\n",
        "        print(an_spycy[i], an_gold[i])\n",
        "\n",
        "toch = 'Точность: '\n",
        "print(toch, 1 - kolvo_mist/len(an_gold))"
      ],
      "execution_count": 124,
      "outputs": [
        {
          "output_type": "stream",
          "text": [
            "('can', 'MD') ('can', 'NN')\n",
            "('asked', 'VBN') ('asked', 'VBD')\n",
            "('flat', 'JJ') ('flat', 'NN')\n",
            "('loud', 'JJ') ('loud', 'RB')\n",
            "('Name', 'NN') ('Name', 'VB')\n",
            "('run', 'VBP') ('run', 'VBD')\n",
            "('Guys', 'NNP') ('Guys', 'NNS')\n",
            "('All', 'RB') ('All', 'DT')\n",
            "('sure', 'RB') ('sure', 'JJ')\n",
            "Точность:  0.9296875\n"
          ],
          "name": "stdout"
        }
      ]
    }
  ]
}