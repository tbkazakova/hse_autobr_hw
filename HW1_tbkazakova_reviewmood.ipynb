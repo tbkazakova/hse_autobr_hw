{
 "cells": [
  {
   "cell_type": "markdown",
   "metadata": {},
   "source": [
    "# ДЗ. Тональность отзывов"
   ]
  },
  {
   "cell_type": "markdown",
   "metadata": {},
   "source": [
    "### Таня Казакова"
   ]
  },
  {
   "cell_type": "markdown",
   "metadata": {},
   "source": [
    "#### Полезное"
   ]
  },
  {
   "cell_type": "code",
   "execution_count": 1,
   "metadata": {},
   "outputs": [],
   "source": [
    "import urllib.request\n",
    "import re\n",
    "import os\n",
    "import collections"
   ]
  },
  {
   "cell_type": "code",
   "execution_count": 2,
   "metadata": {},
   "outputs": [],
   "source": [
    "import nltk"
   ]
  },
  {
   "cell_type": "code",
   "execution_count": 3,
   "metadata": {},
   "outputs": [],
   "source": [
    "from nltk.tokenize import word_tokenize"
   ]
  },
  {
   "cell_type": "code",
   "execution_count": 4,
   "metadata": {},
   "outputs": [],
   "source": [
    "from pymystem3 import Mystem"
   ]
  },
  {
   "cell_type": "code",
   "execution_count": 5,
   "metadata": {},
   "outputs": [],
   "source": [
    "m = Mystem()"
   ]
  },
  {
   "cell_type": "markdown",
   "metadata": {},
   "source": [
    "## Нужные функции"
   ]
  },
  {
   "cell_type": "code",
   "execution_count": 6,
   "metadata": {},
   "outputs": [],
   "source": [
    "# Получаем код страницы\n",
    "def parcer(url):\n",
    "    page = urllib.request.urlopen(url)\n",
    "    text = page.read().decode('utf-8')\n",
    "    return text"
   ]
  },
  {
   "cell_type": "code",
   "execution_count": 7,
   "metadata": {},
   "outputs": [],
   "source": [
    "# Дополняем словарь \"ссылка-оценка\" данными с одной страницы\n",
    "def get_page_linkrating(text, dict_linkrating):\n",
    "    linkratings_search = re.findall('<meta itemProp=\"name\" content=.+?/><link itemProp=\"url\" href=\"(.+?)\"/>(.|\\n)+?<div class=\"ReviewRating__number\">(.+?)</div>', text)\n",
    "    for tupl in linkratings_search:\n",
    "        rating = float(re.sub(',', '.', tupl[2]))\n",
    "        dict_linkrating[tupl[0]] = rating\n",
    "    return dict_linkrating\n",
    "###"
   ]
  },
  {
   "cell_type": "code",
   "execution_count": 8,
   "metadata": {},
   "outputs": [],
   "source": [
    "# Получаем список лемм из отзыва на одной странице\n",
    "def get_dict_w(review_text):\n",
    "    tok_text = word_tokenize(review_text)\n",
    "    words = [w.lower() for w in tok_text if w.isalpha()]\n",
    "    nlem_text = ' '.join(words)\n",
    "    lemmas = m.lemmatize(nlem_text)\n",
    "    dict_page = collections.Counter()\n",
    "    for lemm in lemmas:\n",
    "        dict_page[lemm] += 1\n",
    "    return dict_page"
   ]
  },
  {
   "cell_type": "code",
   "execution_count": 9,
   "metadata": {},
   "outputs": [],
   "source": [
    "# Получаем множество слов, встречающихся в положительных отзывах\n",
    "def get_pos_words_set(dict_linkrating):\n",
    "    pos_words_set = set()\n",
    "    pos_all_words_dict = collections.Counter()\n",
    "    for i in dict_linkrating.most_common(140):\n",
    "        url = i[0]\n",
    "        review = re.search('<pre class=\"ReviewContent__text\">((.|\\n)+?)</pre>', parcer(url))\n",
    "        review_text = review.group(1)\n",
    "        dict_page = get_dict_w(review_text)\n",
    "        pos_all_words_dict = pos_all_words_dict + dict_page\n",
    "    for word in pos_all_words_dict:\n",
    "        if pos_all_words_dict[word] > 2:\n",
    "            pos_words_set.add(word)\n",
    "    return pos_words_set"
   ]
  },
  {
   "cell_type": "code",
   "execution_count": 10,
   "metadata": {},
   "outputs": [],
   "source": [
    "# Получаем множество слов, встречающихся в отрицательных отзывах\n",
    "def get_neg_words_set(dict_linkrating):\n",
    "    neg_words_set = set()\n",
    "    neg_all_words_dict = collections.Counter()\n",
    "    for i in dict_linkrating.most_common()[:-130:-1]:\n",
    "        url = i[0]\n",
    "        review = re.search('<pre class=\"ReviewContent__text\">((.|\\n)+?)</pre>', parcer(url))\n",
    "        review_text = review.group(1)\n",
    "        dict_page = get_dict_w(review_text)\n",
    "        neg_all_words_dict = neg_all_words_dict + dict_page\n",
    "    for word in neg_all_words_dict:\n",
    "        if neg_all_words_dict[word] > 2:\n",
    "            neg_words_set.add(word)\n",
    "    return neg_words_set"
   ]
  },
  {
   "cell_type": "markdown",
   "metadata": {},
   "source": [
    "### Код\n",
    "Получаем множества только с \"позитивными\" и только с \"негативными\" словами"
   ]
  },
  {
   "cell_type": "code",
   "execution_count": 11,
   "metadata": {},
   "outputs": [],
   "source": [
    "dict_linkrating = collections.Counter()\n",
    "for i in range(1, 600):\n",
    "    url_exmpl = 'https://media.auto.ru/reviews/cars/all/?page=NUM&sort=like-desc'\n",
    "    url = re.sub('NUM', str(i), url_exmpl)\n",
    "    # print(url)\n",
    "    text = parcer(url)\n",
    "    dict_linkrating = get_page_linkrating(text, dict_linkrating)  # Получаем полный словарь \"ссылка-оценка\"\n",
    "pos_words_set = get_pos_words_set(dict_linkrating)\n",
    "neg_words_set = get_neg_words_set(dict_linkrating)\n",
    "pos_words_doubl_set = pos_words_set\n",
    "neg_words_doubl_set = neg_words_set\n",
    "intsect = pos_words_set.intersection(neg_words_set)\n",
    "pos_words_set.difference_update(intsect)  # Здесь исключительно позитивные\n",
    "# print(len(pos_words_set))\n",
    "neg_words_set.difference_update(intsect)  # Здесь исключительно негативные\n",
    "# print(len(neg_words_set))"
   ]
  },
  {
   "cell_type": "code",
   "execution_count": 12,
   "metadata": {},
   "outputs": [],
   "source": [
    "# print(len(dict_linkrating.keys())) # Узнать, сколько скачали\n",
    "# print(dict_linkrating.most_common(140))\n",
    "# print(dict_linkrating.most_common()[:-130:-1]) # Узнали, сколько взять, чтоб были отрицательные с оценкой <2,5\n",
    "# Не страшно, что положительных отзывов больше. Положительные чаще на этом сайте бывают короткими.\n",
    "# Зато у нас будет больше данных хотя бы про положительные."
   ]
  },
  {
   "cell_type": "markdown",
   "metadata": {},
   "source": [
    "### Функция, считающая тональность.\n",
    "1 - положительный отзыв, 0 - отрицательный."
   ]
  },
  {
   "cell_type": "code",
   "execution_count": 13,
   "metadata": {},
   "outputs": [],
   "source": [
    "# Даёшь список слов отзыва - получаешь его тональность\n",
    "def count_mood_rev(check_rev, pos_words_set, neg_words_set):\n",
    "    pos = 0\n",
    "    neg = 0\n",
    "    for word in check_rev:\n",
    "        if word in pos_words_set:\n",
    "            pos += 1\n",
    "        elif word in neg_words_set:\n",
    "            neg += 1\n",
    "    sum_pn = pos+neg\n",
    "    print(pos)\n",
    "    print(neg)\n",
    "    print(sum_pn)\n",
    "    if sum_pn == 0:\n",
    "        rev_mood = 0.5\n",
    "    else:\n",
    "        rev_mood = pos/sum_pn\n",
    "    return rev_mood"
   ]
  },
  {
   "cell_type": "code",
   "execution_count": 18,
   "metadata": {},
   "outputs": [
    {
     "name": "stdout",
     "output_type": "stream",
     "text": [
      "27\n",
      "10\n",
      "37\n",
      "0.7297297297297297\n",
      "\n",
      "37\n",
      "5\n",
      "42\n",
      "0.8809523809523809\n",
      "\n",
      "11\n",
      "6\n",
      "17\n",
      "0.6470588235294118\n",
      "\n",
      "14\n",
      "7\n",
      "21\n",
      "0.6666666666666666\n",
      "\n",
      "3\n",
      "2\n",
      "5\n",
      "0.6\n",
      "\n",
      "15\n",
      "2\n",
      "17\n",
      "0.8823529411764706\n",
      "\n",
      "6\n",
      "2\n",
      "8\n",
      "0.75\n",
      "\n",
      "116\n",
      "22\n",
      "138\n",
      "0.8405797101449275\n",
      "\n",
      "34\n",
      "9\n",
      "43\n",
      "0.7906976744186046\n",
      "\n",
      "46\n",
      "22\n",
      "68\n",
      "0.6764705882352942\n",
      "\n",
      "Правильность оценки положительных отзывов\n",
      "0.8\n"
     ]
    }
   ],
   "source": [
    "# Это положительные отзывы. rev_mood должен быть ближе к 1 (чем к 0). Проверим работу анализатора на 10 отзывах.\n",
    "right_mood = 0\n",
    "false_mood = 0\n",
    "for i in dict_linkrating.most_common()[140:150]:\n",
    "    url = i[0]\n",
    "    review = re.search('<pre class=\"ReviewContent__text\">((.|\\n)+?)</pre>', parcer(url))\n",
    "    review_text = review.group(1)\n",
    "    dict_page = get_dict_w(review_text)\n",
    "    check_rev = list(dict_page.elements())\n",
    "    rev_mood = count_mood_rev(check_rev, pos_words_set, neg_words_set) # Смотрим тональность отзывов\n",
    "    print(rev_mood)\n",
    "    print('')\n",
    "    if rev_mood > 0.65:\n",
    "        right_mood += 1\n",
    "    else:\n",
    "        false_mood += 1\n",
    "accuracy_p = right_mood/(right_mood+false_mood)\n",
    "print('Правильность оценки положительных отзывов')\n",
    "print(accuracy_p)"
   ]
  },
  {
   "cell_type": "code",
   "execution_count": 19,
   "metadata": {},
   "outputs": [
    {
     "name": "stdout",
     "output_type": "stream",
     "text": [
      "4\n",
      "4\n",
      "8\n",
      "0.5\n",
      " \n",
      "5\n",
      "1\n",
      "6\n",
      "0.8333333333333334\n",
      " \n",
      "20\n",
      "11\n",
      "31\n",
      "0.6451612903225806\n",
      " \n",
      "7\n",
      "0\n",
      "7\n",
      "1.0\n",
      " \n",
      "29\n",
      "12\n",
      "41\n",
      "0.7073170731707317\n",
      " \n",
      "79\n",
      "19\n",
      "98\n",
      "0.8061224489795918\n",
      " \n",
      "13\n",
      "2\n",
      "15\n",
      "0.8666666666666667\n",
      " \n",
      "12\n",
      "7\n",
      "19\n",
      "0.631578947368421\n",
      " \n",
      "21\n",
      "10\n",
      "31\n",
      "0.6774193548387096\n",
      " \n",
      "28\n",
      "17\n",
      "45\n",
      "0.6222222222222222\n",
      " \n",
      "Правильность оценки отрицательных отзывов\n",
      "0.4\n"
     ]
    }
   ],
   "source": [
    "# Это отрицательные отзывы. rev_mood должен быть ближе к 0 (чем к 1). Проверим работу анализатора на 10 отзывах.\n",
    "right_mood = 0\n",
    "false_mood = 0\n",
    "for i in dict_linkrating.most_common()[-130:-140:-1]:\n",
    "    url = i[0]\n",
    "    review = re.search('<pre class=\"ReviewContent__text\">((.|\\n)+?)</pre>', parcer(url))\n",
    "    review_text = review.group(1)\n",
    "    dict_page = get_dict_w(review_text)\n",
    "    check_rev = list(dict_page.elements())\n",
    "    rev_mood = count_mood_rev(check_rev, pos_words_set, neg_words_set) # Смотрим тональность отзывов\n",
    "    print(rev_mood)\n",
    "    print(' ')\n",
    "    if rev_mood < 0.65:\n",
    "        right_mood += 1\n",
    "    else:\n",
    "        false_mood += 1\n",
    "accuracy_n = right_mood/(right_mood+false_mood)\n",
    "print('Правильность оценки отрицательных отзывов')\n",
    "print(accuracy_n)"
   ]
  },
  {
   "cell_type": "code",
   "execution_count": 21,
   "metadata": {},
   "outputs": [
    {
     "name": "stdout",
     "output_type": "stream",
     "text": [
      "Общая правильность оценки\n",
      "0.6000000000000001\n"
     ]
    }
   ],
   "source": [
    "print('Общая правильность оценки')\n",
    "print((accuracy_p+accuracy_n)/2)"
   ]
  },
  {
   "cell_type": "markdown",
   "metadata": {},
   "source": [
    "#### Идеи о том, как улучшить \"анализатор тональности\":"
   ]
  },
  {
   "cell_type": "markdown",
   "metadata": {},
   "source": [
    " - Увеличить выборку. Скачать гораздо больше отзывов. Проследить, чтоб были крайние позитивные и негативные случаи и чтобы средние не сглаживали картину. В этом конкретном случае найти гораздо больше максимально отрицательных отзывов, чтоб \"отрицательных\" слов было примерно столько, сколько и положительных.\n",
    " - Смотреть скобочки и смайлики. Обращать внимание не только на слова. Скорее всего таких \")\" скобочек в положительном отзыве больше, чем открывающихся. Эмоджи тоже нам помогут.\n",
    " - Смотреть не только слова, не встречающиеся в противоположном по тональности списке, но и те, у которых частотность существенно в них различается, хотя они встречаются в и положительных, и отрицательных отзывах. Это поможет, наверно, определять тональность для средних/нейтральных отзывов. И стоит рассматривать тональность на бинарно ( + или - ), а как шкалу. И при оценивании считать отклонение от правильной оценки, а не точное попадание в число.\n",
    " - Смотреть все отзывы на один продукт, одну модель. (А то вдруг всем нравится LADA и не нравится BMW.) (Хотя тогда получится, что в списке положительного, например, будет двигатель, который всем нравится, а в отрицательных то, что у производителя не вышло.) Поэтому надо смотреть отзывы на разное. Если будем проверять отзывами на ту же модель, хорошо смотреть только на её отзывы. Скорее всего будут жаловаться на то, на что все останые жалуются. И хвалить то же самое. Но гораздо лучше сделать хорошую выборку, где всего в равных количествах много.\n",
    " - Можно обучить нейросеть"
   ]
  }
 ],
 "metadata": {
  "kernelspec": {
   "display_name": "Python 3",
   "language": "python",
   "name": "python3"
  },
  "language_info": {
   "codemirror_mode": {
    "name": "ipython",
    "version": 3
   },
   "file_extension": ".py",
   "mimetype": "text/x-python",
   "name": "python",
   "nbconvert_exporter": "python",
   "pygments_lexer": "ipython3",
   "version": "3.7.4"
  }
 },
 "nbformat": 4,
 "nbformat_minor": 2
}
